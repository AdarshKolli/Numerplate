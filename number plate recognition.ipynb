{
 "cells": [
  {
   "cell_type": "code",
   "execution_count": 1,
   "id": "9e92c120",
   "metadata": {},
   "outputs": [],
   "source": [
    "import cv2"
   ]
  },
  {
   "cell_type": "code",
   "execution_count": 2,
   "id": "05c05f93",
   "metadata": {},
   "outputs": [],
   "source": [
    "import pytesseract "
   ]
  },
  {
   "cell_type": "code",
   "execution_count": 3,
   "id": "00985aaf",
   "metadata": {},
   "outputs": [],
   "source": [
    "import numpy as np"
   ]
  },
  {
   "cell_type": "code",
   "execution_count": 4,
   "id": "f0bb950e",
   "metadata": {},
   "outputs": [],
   "source": [
    "pytesseract.pytesseract.tesseract_cmd=r'C:\\Program Files\\Tesseract-OCR\\tesseract'"
   ]
  },
  {
   "cell_type": "code",
   "execution_count": 6,
   "id": "07b0b2cd",
   "metadata": {},
   "outputs": [],
   "source": [
    "cascade = cv2.CascadeClassifier(\"haarcascade_russian_plate_number.xml\")"
   ]
  },
  {
   "cell_type": "code",
   "execution_count": 39,
   "id": "98382c85",
   "metadata": {},
   "outputs": [],
   "source": [
    "def extract_text(img_name):\n",
    "    global read\n",
    "    img = cv2.imread(img_name)\n",
    "    gray = cv2.cvtColor(img,cv2.COLOR_BGR2GRAY)\n",
    "    nplate = cascade.detectMultiScale(gray,1.1,4)\n",
    "    for (x,y,w,h) in nplate:\n",
    "        a,b = (int(0.02*img.shape[0]),int(0.025*img.shape[1]))\n",
    "        plate = img[y+a:y+h-a,x+b:x+w-b, :]\n",
    "        kernel = np.ones((1,1), np.uint8)\n",
    "        plate =cv2.dilate(plate,kernel,iterations = 1)\n",
    "        plate = cv2.erode(plate,kernel,iterations = 1)\n",
    "        gray_plate = cv2.cvtColor(plate,cv2.COLOR_BGR2GRAY)\n",
    "        (thresh,plate) = cv2.threshold(gray_plate,127,255,cv2.THRESH_BINARY)\n",
    "        \n",
    "        read = pytesseract.image_to_string(plate)\n",
    "        read = ''.join(e for e in read if e.isalnum())\n",
    "        \n",
    "    return read\n",
    "        "
   ]
  },
  {
   "cell_type": "code",
   "execution_count": 40,
   "id": "8928a495",
   "metadata": {},
   "outputs": [],
   "source": [
    "img_name = 'black-font-car-number-plate-500x500.webp'"
   ]
  },
  {
   "cell_type": "code",
   "execution_count": 41,
   "id": "72b242f4",
   "metadata": {},
   "outputs": [
    {
     "data": {
      "text/plain": [
       "'IH13AZ9ZS6M'"
      ]
     },
     "execution_count": 41,
     "metadata": {},
     "output_type": "execute_result"
    }
   ],
   "source": [
    "extract_text(img_name)"
   ]
  },
  {
   "cell_type": "code",
   "execution_count": 42,
   "id": "2b95367d",
   "metadata": {},
   "outputs": [
    {
     "name": "stdout",
     "output_type": "stream",
     "text": [
      "IH13AZ9ZS6M\n"
     ]
    }
   ],
   "source": [
    "print(extract_text(img_name))"
   ]
  },
  {
   "cell_type": "code",
   "execution_count": null,
   "id": "2af79123",
   "metadata": {},
   "outputs": [],
   "source": []
  }
 ],
 "metadata": {
  "kernelspec": {
   "display_name": "Python 3 (ipykernel)",
   "language": "python",
   "name": "python3"
  },
  "language_info": {
   "codemirror_mode": {
    "name": "ipython",
    "version": 3
   },
   "file_extension": ".py",
   "mimetype": "text/x-python",
   "name": "python",
   "nbconvert_exporter": "python",
   "pygments_lexer": "ipython3",
   "version": "3.9.12"
  }
 },
 "nbformat": 4,
 "nbformat_minor": 5
}
